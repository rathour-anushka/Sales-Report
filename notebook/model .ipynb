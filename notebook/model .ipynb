{
 "cells": [
  {
   "cell_type": "code",
   "execution_count": 2,
   "metadata": {
    "colab": {
     "base_uri": "https://localhost:8080/",
     "height": 206
    },
    "executionInfo": {
     "elapsed": 34,
     "status": "ok",
     "timestamp": 1753258398781,
     "user": {
      "displayName": "Anushka Rathour",
      "userId": "17765780449852268020"
     },
     "user_tz": -330
    },
    "id": "kBqnfiHYs79b",
    "outputId": "b3bc4e50-c6f5-47fe-9a2f-d1304877cd12"
   },
   "outputs": [
    {
     "data": {
      "application/vnd.microsoft.datawrangler.viewer.v0+json": {
       "columns": [
        {
         "name": "index",
         "rawType": "int64",
         "type": "integer"
        },
        {
         "name": "store_id",
         "rawType": "object",
         "type": "string"
        },
        {
         "name": "sales",
         "rawType": "int64",
         "type": "integer"
        },
        {
         "name": "date",
         "rawType": "object",
         "type": "string"
        },
        {
         "name": "snap_CA",
         "rawType": "int64",
         "type": "integer"
        },
        {
         "name": "snap_TX",
         "rawType": "int64",
         "type": "integer"
        },
        {
         "name": "snap_WI",
         "rawType": "int64",
         "type": "integer"
        },
        {
         "name": "sell_price",
         "rawType": "float64",
         "type": "float"
        },
        {
         "name": "event_name_1",
         "rawType": "object",
         "type": "unknown"
        },
        {
         "name": "event_type_1",
         "rawType": "object",
         "type": "unknown"
        },
        {
         "name": "event_name_2",
         "rawType": "object",
         "type": "unknown"
        },
        {
         "name": "event_type_2",
         "rawType": "object",
         "type": "unknown"
        },
        {
         "name": "total_price",
         "rawType": "float64",
         "type": "float"
        }
       ],
       "ref": "2a3d25f5-c554-4240-82b1-630093d4fe92",
       "rows": [
        [
         "0",
         "CA_1",
         "42",
         "2011-01-29",
         "0",
         "0",
         "0",
         "1.48",
         null,
         null,
         null,
         null,
         "62.179688"
        ],
        [
         "1",
         "CA_2",
         "34",
         "2011-01-29",
         "0",
         "0",
         "0",
         "1.48",
         null,
         null,
         null,
         null,
         "50.335938"
        ],
        [
         "2",
         "CA_3",
         "56",
         "2011-01-29",
         "0",
         "0",
         "0",
         "1.48",
         null,
         null,
         null,
         null,
         "82.90625"
        ],
        [
         "3",
         "CA_4",
         "6",
         "2011-01-29",
         "0",
         "0",
         "0",
         "1.48",
         null,
         null,
         null,
         null,
         "8.8828125"
        ],
        [
         "4",
         "TX_1",
         "53",
         "2011-01-29",
         "0",
         "0",
         "0",
         "1.48",
         null,
         null,
         null,
         null,
         "78.46484"
        ]
       ],
       "shape": {
        "columns": 12,
        "rows": 5
       }
      },
      "text/html": [
       "<div>\n",
       "<style scoped>\n",
       "    .dataframe tbody tr th:only-of-type {\n",
       "        vertical-align: middle;\n",
       "    }\n",
       "\n",
       "    .dataframe tbody tr th {\n",
       "        vertical-align: top;\n",
       "    }\n",
       "\n",
       "    .dataframe thead th {\n",
       "        text-align: right;\n",
       "    }\n",
       "</style>\n",
       "<table border=\"1\" class=\"dataframe\">\n",
       "  <thead>\n",
       "    <tr style=\"text-align: right;\">\n",
       "      <th></th>\n",
       "      <th>store_id</th>\n",
       "      <th>sales</th>\n",
       "      <th>date</th>\n",
       "      <th>snap_CA</th>\n",
       "      <th>snap_TX</th>\n",
       "      <th>snap_WI</th>\n",
       "      <th>sell_price</th>\n",
       "      <th>event_name_1</th>\n",
       "      <th>event_type_1</th>\n",
       "      <th>event_name_2</th>\n",
       "      <th>event_type_2</th>\n",
       "      <th>total_price</th>\n",
       "    </tr>\n",
       "  </thead>\n",
       "  <tbody>\n",
       "    <tr>\n",
       "      <th>0</th>\n",
       "      <td>CA_1</td>\n",
       "      <td>42</td>\n",
       "      <td>2011-01-29</td>\n",
       "      <td>0</td>\n",
       "      <td>0</td>\n",
       "      <td>0</td>\n",
       "      <td>1.48</td>\n",
       "      <td>NaN</td>\n",
       "      <td>NaN</td>\n",
       "      <td>NaN</td>\n",
       "      <td>NaN</td>\n",
       "      <td>62.179688</td>\n",
       "    </tr>\n",
       "    <tr>\n",
       "      <th>1</th>\n",
       "      <td>CA_2</td>\n",
       "      <td>34</td>\n",
       "      <td>2011-01-29</td>\n",
       "      <td>0</td>\n",
       "      <td>0</td>\n",
       "      <td>0</td>\n",
       "      <td>1.48</td>\n",
       "      <td>NaN</td>\n",
       "      <td>NaN</td>\n",
       "      <td>NaN</td>\n",
       "      <td>NaN</td>\n",
       "      <td>50.335938</td>\n",
       "    </tr>\n",
       "    <tr>\n",
       "      <th>2</th>\n",
       "      <td>CA_3</td>\n",
       "      <td>56</td>\n",
       "      <td>2011-01-29</td>\n",
       "      <td>0</td>\n",
       "      <td>0</td>\n",
       "      <td>0</td>\n",
       "      <td>1.48</td>\n",
       "      <td>NaN</td>\n",
       "      <td>NaN</td>\n",
       "      <td>NaN</td>\n",
       "      <td>NaN</td>\n",
       "      <td>82.906250</td>\n",
       "    </tr>\n",
       "    <tr>\n",
       "      <th>3</th>\n",
       "      <td>CA_4</td>\n",
       "      <td>6</td>\n",
       "      <td>2011-01-29</td>\n",
       "      <td>0</td>\n",
       "      <td>0</td>\n",
       "      <td>0</td>\n",
       "      <td>1.48</td>\n",
       "      <td>NaN</td>\n",
       "      <td>NaN</td>\n",
       "      <td>NaN</td>\n",
       "      <td>NaN</td>\n",
       "      <td>8.882812</td>\n",
       "    </tr>\n",
       "    <tr>\n",
       "      <th>4</th>\n",
       "      <td>TX_1</td>\n",
       "      <td>53</td>\n",
       "      <td>2011-01-29</td>\n",
       "      <td>0</td>\n",
       "      <td>0</td>\n",
       "      <td>0</td>\n",
       "      <td>1.48</td>\n",
       "      <td>NaN</td>\n",
       "      <td>NaN</td>\n",
       "      <td>NaN</td>\n",
       "      <td>NaN</td>\n",
       "      <td>78.464840</td>\n",
       "    </tr>\n",
       "  </tbody>\n",
       "</table>\n",
       "</div>"
      ],
      "text/plain": [
       "  store_id  sales        date  snap_CA  snap_TX  snap_WI  sell_price  \\\n",
       "0     CA_1     42  2011-01-29        0        0        0        1.48   \n",
       "1     CA_2     34  2011-01-29        0        0        0        1.48   \n",
       "2     CA_3     56  2011-01-29        0        0        0        1.48   \n",
       "3     CA_4      6  2011-01-29        0        0        0        1.48   \n",
       "4     TX_1     53  2011-01-29        0        0        0        1.48   \n",
       "\n",
       "  event_name_1 event_type_1 event_name_2 event_type_2  total_price  \n",
       "0          NaN          NaN          NaN          NaN    62.179688  \n",
       "1          NaN          NaN          NaN          NaN    50.335938  \n",
       "2          NaN          NaN          NaN          NaN    82.906250  \n",
       "3          NaN          NaN          NaN          NaN     8.882812  \n",
       "4          NaN          NaN          NaN          NaN    78.464840  "
      ]
     },
     "execution_count": 2,
     "metadata": {},
     "output_type": "execute_result"
    }
   ],
   "source": [
    "import pandas as pd\n",
    "\n",
    "df=pd.read_csv(r'..\\data\\processed\\df_FOODS_3_586.csv')\n",
    "\n",
    "df.head()"
   ]
  },
  {
   "cell_type": "code",
   "execution_count": 3,
   "metadata": {
    "colab": {
     "base_uri": "https://localhost:8080/"
    },
    "executionInfo": {
     "elapsed": 16,
     "status": "ok",
     "timestamp": 1753258398784,
     "user": {
      "displayName": "Anushka Rathour",
      "userId": "17765780449852268020"
     },
     "user_tz": -330
    },
    "id": "Rw-o98R3U8K4",
    "outputId": "873f41cb-47a4-4b63-8546-772bd30dc372"
   },
   "outputs": [
    {
     "name": "stdout",
     "output_type": "stream",
     "text": [
      "<class 'pandas.core.frame.DataFrame'>\n",
      "RangeIndex: 19410 entries, 0 to 19409\n",
      "Data columns (total 12 columns):\n",
      " #   Column        Non-Null Count  Dtype  \n",
      "---  ------        --------------  -----  \n",
      " 0   store_id      19410 non-null  object \n",
      " 1   sales         19410 non-null  int64  \n",
      " 2   date          19410 non-null  object \n",
      " 3   snap_CA       19410 non-null  int64  \n",
      " 4   snap_TX       19410 non-null  int64  \n",
      " 5   snap_WI       19410 non-null  int64  \n",
      " 6   sell_price    19410 non-null  float64\n",
      " 7   event_name_1  1580 non-null   object \n",
      " 8   event_type_1  1580 non-null   object \n",
      " 9   event_name_2  40 non-null     object \n",
      " 10  event_type_2  40 non-null     object \n",
      " 11  total_price   19410 non-null  float64\n",
      "dtypes: float64(2), int64(4), object(6)\n",
      "memory usage: 1.8+ MB\n"
     ]
    }
   ],
   "source": [
    "df.info()"
   ]
  },
  {
   "cell_type": "code",
   "execution_count": 4,
   "metadata": {
    "colab": {
     "base_uri": "https://localhost:8080/",
     "height": 460
    },
    "executionInfo": {
     "elapsed": 11,
     "status": "ok",
     "timestamp": 1753258398784,
     "user": {
      "displayName": "Anushka Rathour",
      "userId": "17765780449852268020"
     },
     "user_tz": -330
    },
    "id": "4Rt-NUGYVHel",
    "outputId": "43c2573f-5e35-4a94-ac3b-a4e4593dec5a"
   },
   "outputs": [
    {
     "data": {
      "application/vnd.microsoft.datawrangler.viewer.v0+json": {
       "columns": [
        {
         "name": "index",
         "rawType": "object",
         "type": "string"
        },
        {
         "name": "0",
         "rawType": "int64",
         "type": "integer"
        }
       ],
       "ref": "0d142fe0-9d80-44e6-a5af-2cd6a5828c0e",
       "rows": [
        [
         "store_id",
         "0"
        ],
        [
         "sales",
         "0"
        ],
        [
         "date",
         "0"
        ],
        [
         "snap_CA",
         "0"
        ],
        [
         "snap_TX",
         "0"
        ],
        [
         "snap_WI",
         "0"
        ],
        [
         "sell_price",
         "0"
        ],
        [
         "event_name_1",
         "17830"
        ],
        [
         "event_type_1",
         "17830"
        ],
        [
         "event_name_2",
         "19370"
        ],
        [
         "event_type_2",
         "19370"
        ],
        [
         "total_price",
         "0"
        ]
       ],
       "shape": {
        "columns": 1,
        "rows": 12
       }
      },
      "text/plain": [
       "store_id            0\n",
       "sales               0\n",
       "date                0\n",
       "snap_CA             0\n",
       "snap_TX             0\n",
       "snap_WI             0\n",
       "sell_price          0\n",
       "event_name_1    17830\n",
       "event_type_1    17830\n",
       "event_name_2    19370\n",
       "event_type_2    19370\n",
       "total_price         0\n",
       "dtype: int64"
      ]
     },
     "execution_count": 4,
     "metadata": {},
     "output_type": "execute_result"
    }
   ],
   "source": [
    "df.isnull().sum()"
   ]
  },
  {
   "cell_type": "code",
   "execution_count": 5,
   "metadata": {
    "colab": {
     "base_uri": "https://localhost:8080/",
     "height": 460
    },
    "executionInfo": {
     "elapsed": 35,
     "status": "ok",
     "timestamp": 1753258398818,
     "user": {
      "displayName": "Anushka Rathour",
      "userId": "17765780449852268020"
     },
     "user_tz": -330
    },
    "id": "6fe6afbd",
    "outputId": "357cc3c3-ba21-4308-9a79-522f9843f6ca"
   },
   "outputs": [
    {
     "data": {
      "application/vnd.microsoft.datawrangler.viewer.v0+json": {
       "columns": [
        {
         "name": "index",
         "rawType": "object",
         "type": "string"
        },
        {
         "name": "0",
         "rawType": "int64",
         "type": "integer"
        }
       ],
       "ref": "87d94ee9-88ff-433a-ae5b-97b50589e9c4",
       "rows": [
        [
         "store_id",
         "0"
        ],
        [
         "sales",
         "0"
        ],
        [
         "date",
         "0"
        ],
        [
         "snap_CA",
         "0"
        ],
        [
         "snap_TX",
         "0"
        ],
        [
         "snap_WI",
         "0"
        ],
        [
         "sell_price",
         "0"
        ],
        [
         "event_name_1",
         "0"
        ],
        [
         "event_type_1",
         "0"
        ],
        [
         "event_name_2",
         "0"
        ],
        [
         "event_type_2",
         "0"
        ],
        [
         "total_price",
         "0"
        ]
       ],
       "shape": {
        "columns": 1,
        "rows": 12
       }
      },
      "text/plain": [
       "store_id        0\n",
       "sales           0\n",
       "date            0\n",
       "snap_CA         0\n",
       "snap_TX         0\n",
       "snap_WI         0\n",
       "sell_price      0\n",
       "event_name_1    0\n",
       "event_type_1    0\n",
       "event_name_2    0\n",
       "event_type_2    0\n",
       "total_price     0\n",
       "dtype: int64"
      ]
     },
     "execution_count": 5,
     "metadata": {},
     "output_type": "execute_result"
    }
   ],
   "source": [
    "df['event_name_1'] = df['event_name_1'].fillna('NONE')\n",
    "df['event_type_1'] = df['event_type_1'].fillna('NONE')\n",
    "df['event_name_2'] = df['event_name_2'].fillna('NONE')\n",
    "df['event_type_2'] = df['event_type_2'].fillna('NONE')\n",
    "\n",
    "df.isnull().sum()"
   ]
  },
  {
   "cell_type": "code",
   "execution_count": 6,
   "metadata": {
    "colab": {
     "base_uri": "https://localhost:8080/",
     "height": 206
    },
    "executionInfo": {
     "elapsed": 48,
     "status": "ok",
     "timestamp": 1753258398876,
     "user": {
      "displayName": "Anushka Rathour",
      "userId": "17765780449852268020"
     },
     "user_tz": -330
    },
    "id": "22Z4bC9dV9jN",
    "outputId": "26329173-bf13-4e59-edd2-e71a4b566abd"
   },
   "outputs": [
    {
     "data": {
      "application/vnd.microsoft.datawrangler.viewer.v0+json": {
       "columns": [
        {
         "name": "index",
         "rawType": "int64",
         "type": "integer"
        },
        {
         "name": "store_id",
         "rawType": "object",
         "type": "string"
        },
        {
         "name": "sales",
         "rawType": "int64",
         "type": "integer"
        },
        {
         "name": "date",
         "rawType": "object",
         "type": "string"
        },
        {
         "name": "snap_CA",
         "rawType": "int64",
         "type": "integer"
        },
        {
         "name": "snap_TX",
         "rawType": "int64",
         "type": "integer"
        },
        {
         "name": "snap_WI",
         "rawType": "int64",
         "type": "integer"
        },
        {
         "name": "sell_price",
         "rawType": "float64",
         "type": "float"
        },
        {
         "name": "event_name_1",
         "rawType": "object",
         "type": "string"
        },
        {
         "name": "event_type_1",
         "rawType": "object",
         "type": "string"
        },
        {
         "name": "event_name_2",
         "rawType": "object",
         "type": "string"
        },
        {
         "name": "event_type_2",
         "rawType": "object",
         "type": "string"
        },
        {
         "name": "total_price",
         "rawType": "float64",
         "type": "float"
        }
       ],
       "ref": "58fe7daa-2efc-48e8-a8af-6d0afea980db",
       "rows": [
        [
         "0",
         "CA_1",
         "42",
         "2011-01-29",
         "0",
         "0",
         "0",
         "1.48",
         "NONE",
         "NONE",
         "NONE",
         "NONE",
         "62.179688"
        ],
        [
         "1",
         "CA_2",
         "34",
         "2011-01-29",
         "0",
         "0",
         "0",
         "1.48",
         "NONE",
         "NONE",
         "NONE",
         "NONE",
         "50.335938"
        ],
        [
         "2",
         "CA_3",
         "56",
         "2011-01-29",
         "0",
         "0",
         "0",
         "1.48",
         "NONE",
         "NONE",
         "NONE",
         "NONE",
         "82.90625"
        ],
        [
         "3",
         "CA_4",
         "6",
         "2011-01-29",
         "0",
         "0",
         "0",
         "1.48",
         "NONE",
         "NONE",
         "NONE",
         "NONE",
         "8.8828125"
        ],
        [
         "4",
         "TX_1",
         "53",
         "2011-01-29",
         "0",
         "0",
         "0",
         "1.48",
         "NONE",
         "NONE",
         "NONE",
         "NONE",
         "78.46484"
        ]
       ],
       "shape": {
        "columns": 12,
        "rows": 5
       }
      },
      "text/html": [
       "<div>\n",
       "<style scoped>\n",
       "    .dataframe tbody tr th:only-of-type {\n",
       "        vertical-align: middle;\n",
       "    }\n",
       "\n",
       "    .dataframe tbody tr th {\n",
       "        vertical-align: top;\n",
       "    }\n",
       "\n",
       "    .dataframe thead th {\n",
       "        text-align: right;\n",
       "    }\n",
       "</style>\n",
       "<table border=\"1\" class=\"dataframe\">\n",
       "  <thead>\n",
       "    <tr style=\"text-align: right;\">\n",
       "      <th></th>\n",
       "      <th>store_id</th>\n",
       "      <th>sales</th>\n",
       "      <th>date</th>\n",
       "      <th>snap_CA</th>\n",
       "      <th>snap_TX</th>\n",
       "      <th>snap_WI</th>\n",
       "      <th>sell_price</th>\n",
       "      <th>event_name_1</th>\n",
       "      <th>event_type_1</th>\n",
       "      <th>event_name_2</th>\n",
       "      <th>event_type_2</th>\n",
       "      <th>total_price</th>\n",
       "    </tr>\n",
       "  </thead>\n",
       "  <tbody>\n",
       "    <tr>\n",
       "      <th>0</th>\n",
       "      <td>CA_1</td>\n",
       "      <td>42</td>\n",
       "      <td>2011-01-29</td>\n",
       "      <td>0</td>\n",
       "      <td>0</td>\n",
       "      <td>0</td>\n",
       "      <td>1.48</td>\n",
       "      <td>NONE</td>\n",
       "      <td>NONE</td>\n",
       "      <td>NONE</td>\n",
       "      <td>NONE</td>\n",
       "      <td>62.179688</td>\n",
       "    </tr>\n",
       "    <tr>\n",
       "      <th>1</th>\n",
       "      <td>CA_2</td>\n",
       "      <td>34</td>\n",
       "      <td>2011-01-29</td>\n",
       "      <td>0</td>\n",
       "      <td>0</td>\n",
       "      <td>0</td>\n",
       "      <td>1.48</td>\n",
       "      <td>NONE</td>\n",
       "      <td>NONE</td>\n",
       "      <td>NONE</td>\n",
       "      <td>NONE</td>\n",
       "      <td>50.335938</td>\n",
       "    </tr>\n",
       "    <tr>\n",
       "      <th>2</th>\n",
       "      <td>CA_3</td>\n",
       "      <td>56</td>\n",
       "      <td>2011-01-29</td>\n",
       "      <td>0</td>\n",
       "      <td>0</td>\n",
       "      <td>0</td>\n",
       "      <td>1.48</td>\n",
       "      <td>NONE</td>\n",
       "      <td>NONE</td>\n",
       "      <td>NONE</td>\n",
       "      <td>NONE</td>\n",
       "      <td>82.906250</td>\n",
       "    </tr>\n",
       "    <tr>\n",
       "      <th>3</th>\n",
       "      <td>CA_4</td>\n",
       "      <td>6</td>\n",
       "      <td>2011-01-29</td>\n",
       "      <td>0</td>\n",
       "      <td>0</td>\n",
       "      <td>0</td>\n",
       "      <td>1.48</td>\n",
       "      <td>NONE</td>\n",
       "      <td>NONE</td>\n",
       "      <td>NONE</td>\n",
       "      <td>NONE</td>\n",
       "      <td>8.882812</td>\n",
       "    </tr>\n",
       "    <tr>\n",
       "      <th>4</th>\n",
       "      <td>TX_1</td>\n",
       "      <td>53</td>\n",
       "      <td>2011-01-29</td>\n",
       "      <td>0</td>\n",
       "      <td>0</td>\n",
       "      <td>0</td>\n",
       "      <td>1.48</td>\n",
       "      <td>NONE</td>\n",
       "      <td>NONE</td>\n",
       "      <td>NONE</td>\n",
       "      <td>NONE</td>\n",
       "      <td>78.464840</td>\n",
       "    </tr>\n",
       "  </tbody>\n",
       "</table>\n",
       "</div>"
      ],
      "text/plain": [
       "  store_id  sales        date  snap_CA  snap_TX  snap_WI  sell_price  \\\n",
       "0     CA_1     42  2011-01-29        0        0        0        1.48   \n",
       "1     CA_2     34  2011-01-29        0        0        0        1.48   \n",
       "2     CA_3     56  2011-01-29        0        0        0        1.48   \n",
       "3     CA_4      6  2011-01-29        0        0        0        1.48   \n",
       "4     TX_1     53  2011-01-29        0        0        0        1.48   \n",
       "\n",
       "  event_name_1 event_type_1 event_name_2 event_type_2  total_price  \n",
       "0         NONE         NONE         NONE         NONE    62.179688  \n",
       "1         NONE         NONE         NONE         NONE    50.335938  \n",
       "2         NONE         NONE         NONE         NONE    82.906250  \n",
       "3         NONE         NONE         NONE         NONE     8.882812  \n",
       "4         NONE         NONE         NONE         NONE    78.464840  "
      ]
     },
     "execution_count": 6,
     "metadata": {},
     "output_type": "execute_result"
    }
   ],
   "source": [
    "df.head()"
   ]
  },
  {
   "cell_type": "code",
   "execution_count": null,
   "metadata": {
    "colab": {
     "base_uri": "https://localhost:8080/",
     "height": 360
    },
    "executionInfo": {
     "elapsed": 314,
     "status": "ok",
     "timestamp": 1753258634385,
     "user": {
      "displayName": "Anushka Rathour",
      "userId": "17765780449852268020"
     },
     "user_tz": -330
    },
    "id": "3edd416b",
    "outputId": "129f5178-7bf6-4cd3-c04d-cdd5b64895f6"
   },
   "outputs": [
    {
     "data": {
      "application/vnd.microsoft.datawrangler.viewer.v0+json": {
       "columns": [
        {
         "name": "index",
         "rawType": "int64",
         "type": "integer"
        },
        {
         "name": "sales",
         "rawType": "int64",
         "type": "integer"
        },
        {
         "name": "date",
         "rawType": "datetime64[ns]",
         "type": "datetime"
        },
        {
         "name": "snap_CA",
         "rawType": "int64",
         "type": "integer"
        },
        {
         "name": "snap_TX",
         "rawType": "int64",
         "type": "integer"
        },
        {
         "name": "snap_WI",
         "rawType": "int64",
         "type": "integer"
        },
        {
         "name": "sell_price",
         "rawType": "float64",
         "type": "float"
        },
        {
         "name": "total_price",
         "rawType": "float64",
         "type": "float"
        },
        {
         "name": "year",
         "rawType": "int32",
         "type": "integer"
        },
        {
         "name": "month",
         "rawType": "int32",
         "type": "integer"
        },
        {
         "name": "day",
         "rawType": "int32",
         "type": "integer"
        },
        {
         "name": "dayofweek",
         "rawType": "int32",
         "type": "integer"
        },
        {
         "name": "dayofyear",
         "rawType": "int32",
         "type": "integer"
        },
        {
         "name": "weekofyear",
         "rawType": "int64",
         "type": "integer"
        },
        {
         "name": "quarter",
         "rawType": "int32",
         "type": "integer"
        },
        {
         "name": "store_id_CA_2",
         "rawType": "bool",
         "type": "boolean"
        },
        {
         "name": "store_id_CA_3",
         "rawType": "bool",
         "type": "boolean"
        },
        {
         "name": "store_id_CA_4",
         "rawType": "bool",
         "type": "boolean"
        },
        {
         "name": "store_id_TX_1",
         "rawType": "bool",
         "type": "boolean"
        },
        {
         "name": "store_id_TX_2",
         "rawType": "bool",
         "type": "boolean"
        },
        {
         "name": "store_id_TX_3",
         "rawType": "bool",
         "type": "boolean"
        },
        {
         "name": "store_id_WI_1",
         "rawType": "bool",
         "type": "boolean"
        },
        {
         "name": "store_id_WI_2",
         "rawType": "bool",
         "type": "boolean"
        },
        {
         "name": "store_id_WI_3",
         "rawType": "bool",
         "type": "boolean"
        },
        {
         "name": "event_name_1_Christmas",
         "rawType": "bool",
         "type": "boolean"
        },
        {
         "name": "event_name_1_Cinco De Mayo",
         "rawType": "bool",
         "type": "boolean"
        },
        {
         "name": "event_name_1_ColumbusDay",
         "rawType": "bool",
         "type": "boolean"
        },
        {
         "name": "event_name_1_Easter",
         "rawType": "bool",
         "type": "boolean"
        },
        {
         "name": "event_name_1_Eid al-Fitr",
         "rawType": "bool",
         "type": "boolean"
        },
        {
         "name": "event_name_1_EidAlAdha",
         "rawType": "bool",
         "type": "boolean"
        },
        {
         "name": "event_name_1_Father's day",
         "rawType": "bool",
         "type": "boolean"
        },
        {
         "name": "event_name_1_Halloween",
         "rawType": "bool",
         "type": "boolean"
        },
        {
         "name": "event_name_1_IndependenceDay",
         "rawType": "bool",
         "type": "boolean"
        },
        {
         "name": "event_name_1_LaborDay",
         "rawType": "bool",
         "type": "boolean"
        },
        {
         "name": "event_name_1_LentStart",
         "rawType": "bool",
         "type": "boolean"
        },
        {
         "name": "event_name_1_LentWeek2",
         "rawType": "bool",
         "type": "boolean"
        },
        {
         "name": "event_name_1_MartinLutherKingDay",
         "rawType": "bool",
         "type": "boolean"
        },
        {
         "name": "event_name_1_MemorialDay",
         "rawType": "bool",
         "type": "boolean"
        },
        {
         "name": "event_name_1_Mother's day",
         "rawType": "bool",
         "type": "boolean"
        },
        {
         "name": "event_name_1_NBAFinalsEnd",
         "rawType": "bool",
         "type": "boolean"
        },
        {
         "name": "event_name_1_NBAFinalsStart",
         "rawType": "bool",
         "type": "boolean"
        },
        {
         "name": "event_name_1_NONE",
         "rawType": "bool",
         "type": "boolean"
        },
        {
         "name": "event_name_1_NewYear",
         "rawType": "bool",
         "type": "boolean"
        },
        {
         "name": "event_name_1_OrthodoxChristmas",
         "rawType": "bool",
         "type": "boolean"
        },
        {
         "name": "event_name_1_OrthodoxEaster",
         "rawType": "bool",
         "type": "boolean"
        },
        {
         "name": "event_name_1_Pesach End",
         "rawType": "bool",
         "type": "boolean"
        },
        {
         "name": "event_name_1_PresidentsDay",
         "rawType": "bool",
         "type": "boolean"
        },
        {
         "name": "event_name_1_Purim End",
         "rawType": "bool",
         "type": "boolean"
        },
        {
         "name": "event_name_1_Ramadan starts",
         "rawType": "bool",
         "type": "boolean"
        },
        {
         "name": "event_name_1_StPatricksDay",
         "rawType": "bool",
         "type": "boolean"
        },
        {
         "name": "event_name_1_SuperBowl",
         "rawType": "bool",
         "type": "boolean"
        },
        {
         "name": "event_name_1_Thanksgiving",
         "rawType": "bool",
         "type": "boolean"
        },
        {
         "name": "event_name_1_ValentinesDay",
         "rawType": "bool",
         "type": "boolean"
        },
        {
         "name": "event_name_1_VeteransDay",
         "rawType": "bool",
         "type": "boolean"
        },
        {
         "name": "event_type_1_NONE",
         "rawType": "bool",
         "type": "boolean"
        },
        {
         "name": "event_type_1_National",
         "rawType": "bool",
         "type": "boolean"
        },
        {
         "name": "event_type_1_Religious",
         "rawType": "bool",
         "type": "boolean"
        },
        {
         "name": "event_type_1_Sporting",
         "rawType": "bool",
         "type": "boolean"
        },
        {
         "name": "event_name_2_Easter",
         "rawType": "bool",
         "type": "boolean"
        },
        {
         "name": "event_name_2_Father's day",
         "rawType": "bool",
         "type": "boolean"
        },
        {
         "name": "event_name_2_NONE",
         "rawType": "bool",
         "type": "boolean"
        },
        {
         "name": "event_name_2_OrthodoxEaster",
         "rawType": "bool",
         "type": "boolean"
        },
        {
         "name": "event_type_2_NONE",
         "rawType": "bool",
         "type": "boolean"
        },
        {
         "name": "event_type_2_Religious",
         "rawType": "bool",
         "type": "boolean"
        }
       ],
       "ref": "d698bd30-58f6-449b-b81f-79e99c319fed",
       "rows": [
        [
         "0",
         "42",
         "2011-01-29 00:00:00",
         "0",
         "0",
         "0",
         "1.48",
         "62.179688",
         "2011",
         "1",
         "29",
         "5",
         "29",
         "4",
         "1",
         "False",
         "False",
         "False",
         "False",
         "False",
         "False",
         "False",
         "False",
         "False",
         "False",
         "False",
         "False",
         "False",
         "False",
         "False",
         "False",
         "False",
         "False",
         "False",
         "False",
         "False",
         "False",
         "False",
         "False",
         "False",
         "False",
         "True",
         "False",
         "False",
         "False",
         "False",
         "False",
         "False",
         "False",
         "False",
         "False",
         "False",
         "False",
         "False",
         "True",
         "False",
         "False",
         "False",
         "False",
         "False",
         "True",
         "False",
         "True",
         "False"
        ],
        [
         "1",
         "34",
         "2011-01-29 00:00:00",
         "0",
         "0",
         "0",
         "1.48",
         "50.335938",
         "2011",
         "1",
         "29",
         "5",
         "29",
         "4",
         "1",
         "True",
         "False",
         "False",
         "False",
         "False",
         "False",
         "False",
         "False",
         "False",
         "False",
         "False",
         "False",
         "False",
         "False",
         "False",
         "False",
         "False",
         "False",
         "False",
         "False",
         "False",
         "False",
         "False",
         "False",
         "False",
         "False",
         "True",
         "False",
         "False",
         "False",
         "False",
         "False",
         "False",
         "False",
         "False",
         "False",
         "False",
         "False",
         "False",
         "True",
         "False",
         "False",
         "False",
         "False",
         "False",
         "True",
         "False",
         "True",
         "False"
        ],
        [
         "2",
         "56",
         "2011-01-29 00:00:00",
         "0",
         "0",
         "0",
         "1.48",
         "82.90625",
         "2011",
         "1",
         "29",
         "5",
         "29",
         "4",
         "1",
         "False",
         "True",
         "False",
         "False",
         "False",
         "False",
         "False",
         "False",
         "False",
         "False",
         "False",
         "False",
         "False",
         "False",
         "False",
         "False",
         "False",
         "False",
         "False",
         "False",
         "False",
         "False",
         "False",
         "False",
         "False",
         "False",
         "True",
         "False",
         "False",
         "False",
         "False",
         "False",
         "False",
         "False",
         "False",
         "False",
         "False",
         "False",
         "False",
         "True",
         "False",
         "False",
         "False",
         "False",
         "False",
         "True",
         "False",
         "True",
         "False"
        ],
        [
         "3",
         "6",
         "2011-01-29 00:00:00",
         "0",
         "0",
         "0",
         "1.48",
         "8.8828125",
         "2011",
         "1",
         "29",
         "5",
         "29",
         "4",
         "1",
         "False",
         "False",
         "True",
         "False",
         "False",
         "False",
         "False",
         "False",
         "False",
         "False",
         "False",
         "False",
         "False",
         "False",
         "False",
         "False",
         "False",
         "False",
         "False",
         "False",
         "False",
         "False",
         "False",
         "False",
         "False",
         "False",
         "True",
         "False",
         "False",
         "False",
         "False",
         "False",
         "False",
         "False",
         "False",
         "False",
         "False",
         "False",
         "False",
         "True",
         "False",
         "False",
         "False",
         "False",
         "False",
         "True",
         "False",
         "True",
         "False"
        ],
        [
         "4",
         "53",
         "2011-01-29 00:00:00",
         "0",
         "0",
         "0",
         "1.48",
         "78.46484",
         "2011",
         "1",
         "29",
         "5",
         "29",
         "4",
         "1",
         "False",
         "False",
         "False",
         "True",
         "False",
         "False",
         "False",
         "False",
         "False",
         "False",
         "False",
         "False",
         "False",
         "False",
         "False",
         "False",
         "False",
         "False",
         "False",
         "False",
         "False",
         "False",
         "False",
         "False",
         "False",
         "False",
         "True",
         "False",
         "False",
         "False",
         "False",
         "False",
         "False",
         "False",
         "False",
         "False",
         "False",
         "False",
         "False",
         "True",
         "False",
         "False",
         "False",
         "False",
         "False",
         "True",
         "False",
         "True",
         "False"
        ]
       ],
       "shape": {
        "columns": 63,
        "rows": 5
       }
      },
      "text/html": [
       "<div>\n",
       "<style scoped>\n",
       "    .dataframe tbody tr th:only-of-type {\n",
       "        vertical-align: middle;\n",
       "    }\n",
       "\n",
       "    .dataframe tbody tr th {\n",
       "        vertical-align: top;\n",
       "    }\n",
       "\n",
       "    .dataframe thead th {\n",
       "        text-align: right;\n",
       "    }\n",
       "</style>\n",
       "<table border=\"1\" class=\"dataframe\">\n",
       "  <thead>\n",
       "    <tr style=\"text-align: right;\">\n",
       "      <th></th>\n",
       "      <th>sales</th>\n",
       "      <th>date</th>\n",
       "      <th>snap_CA</th>\n",
       "      <th>snap_TX</th>\n",
       "      <th>snap_WI</th>\n",
       "      <th>sell_price</th>\n",
       "      <th>total_price</th>\n",
       "      <th>year</th>\n",
       "      <th>month</th>\n",
       "      <th>day</th>\n",
       "      <th>...</th>\n",
       "      <th>event_type_1_NONE</th>\n",
       "      <th>event_type_1_National</th>\n",
       "      <th>event_type_1_Religious</th>\n",
       "      <th>event_type_1_Sporting</th>\n",
       "      <th>event_name_2_Easter</th>\n",
       "      <th>event_name_2_Father's day</th>\n",
       "      <th>event_name_2_NONE</th>\n",
       "      <th>event_name_2_OrthodoxEaster</th>\n",
       "      <th>event_type_2_NONE</th>\n",
       "      <th>event_type_2_Religious</th>\n",
       "    </tr>\n",
       "  </thead>\n",
       "  <tbody>\n",
       "    <tr>\n",
       "      <th>0</th>\n",
       "      <td>42</td>\n",
       "      <td>2011-01-29</td>\n",
       "      <td>0</td>\n",
       "      <td>0</td>\n",
       "      <td>0</td>\n",
       "      <td>1.48</td>\n",
       "      <td>62.179688</td>\n",
       "      <td>2011</td>\n",
       "      <td>1</td>\n",
       "      <td>29</td>\n",
       "      <td>...</td>\n",
       "      <td>True</td>\n",
       "      <td>False</td>\n",
       "      <td>False</td>\n",
       "      <td>False</td>\n",
       "      <td>False</td>\n",
       "      <td>False</td>\n",
       "      <td>True</td>\n",
       "      <td>False</td>\n",
       "      <td>True</td>\n",
       "      <td>False</td>\n",
       "    </tr>\n",
       "    <tr>\n",
       "      <th>1</th>\n",
       "      <td>34</td>\n",
       "      <td>2011-01-29</td>\n",
       "      <td>0</td>\n",
       "      <td>0</td>\n",
       "      <td>0</td>\n",
       "      <td>1.48</td>\n",
       "      <td>50.335938</td>\n",
       "      <td>2011</td>\n",
       "      <td>1</td>\n",
       "      <td>29</td>\n",
       "      <td>...</td>\n",
       "      <td>True</td>\n",
       "      <td>False</td>\n",
       "      <td>False</td>\n",
       "      <td>False</td>\n",
       "      <td>False</td>\n",
       "      <td>False</td>\n",
       "      <td>True</td>\n",
       "      <td>False</td>\n",
       "      <td>True</td>\n",
       "      <td>False</td>\n",
       "    </tr>\n",
       "    <tr>\n",
       "      <th>2</th>\n",
       "      <td>56</td>\n",
       "      <td>2011-01-29</td>\n",
       "      <td>0</td>\n",
       "      <td>0</td>\n",
       "      <td>0</td>\n",
       "      <td>1.48</td>\n",
       "      <td>82.906250</td>\n",
       "      <td>2011</td>\n",
       "      <td>1</td>\n",
       "      <td>29</td>\n",
       "      <td>...</td>\n",
       "      <td>True</td>\n",
       "      <td>False</td>\n",
       "      <td>False</td>\n",
       "      <td>False</td>\n",
       "      <td>False</td>\n",
       "      <td>False</td>\n",
       "      <td>True</td>\n",
       "      <td>False</td>\n",
       "      <td>True</td>\n",
       "      <td>False</td>\n",
       "    </tr>\n",
       "    <tr>\n",
       "      <th>3</th>\n",
       "      <td>6</td>\n",
       "      <td>2011-01-29</td>\n",
       "      <td>0</td>\n",
       "      <td>0</td>\n",
       "      <td>0</td>\n",
       "      <td>1.48</td>\n",
       "      <td>8.882812</td>\n",
       "      <td>2011</td>\n",
       "      <td>1</td>\n",
       "      <td>29</td>\n",
       "      <td>...</td>\n",
       "      <td>True</td>\n",
       "      <td>False</td>\n",
       "      <td>False</td>\n",
       "      <td>False</td>\n",
       "      <td>False</td>\n",
       "      <td>False</td>\n",
       "      <td>True</td>\n",
       "      <td>False</td>\n",
       "      <td>True</td>\n",
       "      <td>False</td>\n",
       "    </tr>\n",
       "    <tr>\n",
       "      <th>4</th>\n",
       "      <td>53</td>\n",
       "      <td>2011-01-29</td>\n",
       "      <td>0</td>\n",
       "      <td>0</td>\n",
       "      <td>0</td>\n",
       "      <td>1.48</td>\n",
       "      <td>78.464840</td>\n",
       "      <td>2011</td>\n",
       "      <td>1</td>\n",
       "      <td>29</td>\n",
       "      <td>...</td>\n",
       "      <td>True</td>\n",
       "      <td>False</td>\n",
       "      <td>False</td>\n",
       "      <td>False</td>\n",
       "      <td>False</td>\n",
       "      <td>False</td>\n",
       "      <td>True</td>\n",
       "      <td>False</td>\n",
       "      <td>True</td>\n",
       "      <td>False</td>\n",
       "    </tr>\n",
       "  </tbody>\n",
       "</table>\n",
       "<p>5 rows × 63 columns</p>\n",
       "</div>"
      ],
      "text/plain": [
       "   sales       date  snap_CA  snap_TX  snap_WI  sell_price  total_price  year  \\\n",
       "0     42 2011-01-29        0        0        0        1.48    62.179688  2011   \n",
       "1     34 2011-01-29        0        0        0        1.48    50.335938  2011   \n",
       "2     56 2011-01-29        0        0        0        1.48    82.906250  2011   \n",
       "3      6 2011-01-29        0        0        0        1.48     8.882812  2011   \n",
       "4     53 2011-01-29        0        0        0        1.48    78.464840  2011   \n",
       "\n",
       "   month  day  ...  event_type_1_NONE  event_type_1_National  \\\n",
       "0      1   29  ...               True                  False   \n",
       "1      1   29  ...               True                  False   \n",
       "2      1   29  ...               True                  False   \n",
       "3      1   29  ...               True                  False   \n",
       "4      1   29  ...               True                  False   \n",
       "\n",
       "   event_type_1_Religious  event_type_1_Sporting  event_name_2_Easter  \\\n",
       "0                   False                  False                False   \n",
       "1                   False                  False                False   \n",
       "2                   False                  False                False   \n",
       "3                   False                  False                False   \n",
       "4                   False                  False                False   \n",
       "\n",
       "   event_name_2_Father's day  event_name_2_NONE  event_name_2_OrthodoxEaster  \\\n",
       "0                      False               True                        False   \n",
       "1                      False               True                        False   \n",
       "2                      False               True                        False   \n",
       "3                      False               True                        False   \n",
       "4                      False               True                        False   \n",
       "\n",
       "   event_type_2_NONE  event_type_2_Religious  \n",
       "0               True                   False  \n",
       "1               True                   False  \n",
       "2               True                   False  \n",
       "3               True                   False  \n",
       "4               True                   False  \n",
       "\n",
       "[5 rows x 63 columns]"
      ]
     },
     "execution_count": 7,
     "metadata": {},
     "output_type": "execute_result"
    }
   ],
   "source": [
    "\n",
    "\n",
    "\n",
    "# Convert 'date' to datetime objects\n",
    "df['date'] = pd.to_datetime(df['date'])\n",
    "\n",
    "# Extract time-based features\n",
    "df['year'] = df['date'].dt.year\n",
    "df['month'] = df['date'].dt.month\n",
    "df['day'] = df['date'].dt.day\n",
    "df['dayofweek'] = df['date'].dt.dayofweek\n",
    "df['dayofyear'] = df['date'].dt.dayofyear\n",
    "df['weekofyear'] = df['date'].dt.isocalendar().week.astype(int)\n",
    "df['quarter'] = df['date'].dt.quarter\n",
    "\n",
    "# Create dummy variables for categorical features\n",
    "df = pd.get_dummies(df, columns=['store_id', 'event_name_1', 'event_type_1', 'event_name_2', 'event_type_2'], drop_first=True)\n",
    "\n",
    "df.head()"
   ]
  },
  {
   "cell_type": "code",
   "execution_count": 8,
   "metadata": {
    "colab": {
     "base_uri": "https://localhost:8080/"
    },
    "executionInfo": {
     "elapsed": 9453,
     "status": "ok",
     "timestamp": 1753259309199,
     "user": {
      "displayName": "Anushka Rathour",
      "userId": "17765780449852268020"
     },
     "user_tz": -330
    },
    "id": "74363862",
    "outputId": "ed13562a-ecd3-4c77-b285-75d596827c60"
   },
   "outputs": [
    {
     "name": "stdout",
     "output_type": "stream",
     "text": [
      "RMSE: 19.28116193057174\n",
      "R-squared: 0.8654375395305023\n"
     ]
    }
   ],
   "source": [
    "from sklearn.model_selection import train_test_split\n",
    "from sklearn.ensemble import RandomForestRegressor\n",
    "from sklearn.metrics import mean_squared_error, r2_score\n",
    "import numpy as np\n",
    "\n",
    "# Define features (X) and target (y)\n",
    "X = df.drop(['date', 'sales', 'sell_price', 'total_price'], axis=1) # Drop original date, sales, sell_price, and the target variable\n",
    "y = df['total_price']\n",
    "\n",
    "# Split data into training and testing sets\n",
    "X_train, X_test, y_train, y_test = train_test_split(X, y, test_size=0.2, random_state=42)\n",
    "\n",
    "# Initialize and train the model\n",
    "model = RandomForestRegressor(n_estimators=100, random_state=42, n_jobs=-1) # Using n_jobs=-1 to utilize all available cores\n",
    "model.fit(X_train, y_train)\n",
    "\n",
    "# Make predictions on the test set\n",
    "y_pred = model.predict(X_test)\n",
    "\n",
    "# Evaluate the model\n",
    "rmse = np.sqrt(mean_squared_error(y_test, y_pred))\n",
    "r2 = r2_score(y_test, y_pred)\n",
    "\n",
    "print(f'RMSE: {rmse}')\n",
    "print(f'R-squared: {r2}')"
   ]
  },
  {
   "cell_type": "code",
   "execution_count": 9,
   "metadata": {
    "colab": {
     "base_uri": "https://localhost:8080/"
    },
    "executionInfo": {
     "elapsed": 3367,
     "status": "ok",
     "timestamp": 1753259695577,
     "user": {
      "displayName": "Anushka Rathour",
      "userId": "17765780449852268020"
     },
     "user_tz": -330
    },
    "id": "9e4492b6",
    "outputId": "445abd7d-088e-49b1-83fd-0b994f81f3e2"
   },
   "outputs": [
    {
     "name": "stdout",
     "output_type": "stream",
     "text": [
      "XGBoost RMSE: 18.04489148997686\n",
      "XGBoost R-squared: 0.8821401008238964\n"
     ]
    }
   ],
   "source": [
    "import xgboost as xgb\n",
    "from sklearn.metrics import mean_squared_error, r2_score\n",
    "import numpy as np\n",
    "\n",
    "# Initialize and train the XGBoost Regressor model\n",
    "xgb_model = xgb.XGBRegressor(objective='reg:squarederror',\n",
    "                             n_estimators=1000, # Increased number of estimators\n",
    "                             learning_rate=0.05, # Reduced learning rate\n",
    "                             max_depth=5,        # Set max depth\n",
    "                             random_state=42,\n",
    "                             n_jobs=-1)\n",
    "\n",
    "xgb_model.fit(X_train, y_train)\n",
    "\n",
    "# Make predictions on the test set\n",
    "y_pred_xgb = xgb_model.predict(X_test)\n",
    "\n",
    "# Evaluate the model\n",
    "rmse_xgb = np.sqrt(mean_squared_error(y_test, y_pred_xgb))\n",
    "r2_xgb = r2_score(y_test, y_pred_xgb)\n",
    "\n",
    "print(f'XGBoost RMSE: {rmse_xgb}')\n",
    "print(f'XGBoost R-squared: {r2_xgb}')"
   ]
  },
  {
   "cell_type": "code",
   "execution_count": 10,
   "metadata": {
    "colab": {
     "base_uri": "https://localhost:8080/"
    },
    "executionInfo": {
     "elapsed": 1815,
     "status": "ok",
     "timestamp": 1753260097445,
     "user": {
      "displayName": "Anushka Rathour",
      "userId": "17765780449852268020"
     },
     "user_tz": -330
    },
    "id": "583a58a1",
    "outputId": "9fa6075f-caa0-418b-8b85-24e103022e66"
   },
   "outputs": [
    {
     "name": "stdout",
     "output_type": "stream",
     "text": [
      "[LightGBM] [Warning] Found whitespace in feature_names, replace with underlines\n",
      "[LightGBM] [Info] Auto-choosing row-wise multi-threading, the overhead of testing was 0.001386 seconds.\n",
      "You can set `force_row_wise=true` to remove the overhead.\n",
      "And if memory is not enough, you can set `force_col_wise=true`.\n",
      "[LightGBM] [Info] Total Bins 458\n",
      "[LightGBM] [Info] Number of data points in the train set: 15528, number of used features: 55\n",
      "[LightGBM] [Info] Start training from score 76.383941\n",
      "LightGBM RMSE: 17.538324168866612\n",
      "LightGBM R-squared: 0.8886644902940352\n"
     ]
    }
   ],
   "source": [
    "import lightgbm as lgb\n",
    "from sklearn.metrics import mean_squared_error, r2_score\n",
    "import numpy as np\n",
    "\n",
    "# Initialize and train the LightGBM Regressor model\n",
    "lgb_model = lgb.LGBMRegressor(objective='regression_l2', # Equivalent to MSE\n",
    "                              n_estimators=1000,\n",
    "                              learning_rate=0.05,\n",
    "                              num_leaves=31, # Default value, can be tuned\n",
    "                              max_depth=-1,  # No limit on depth\n",
    "                              random_state=42,\n",
    "                              n_jobs=-1)\n",
    "\n",
    "lgb_model.fit(X_train, y_train)\n",
    "\n",
    "# Make predictions on the test set\n",
    "y_pred_lgb = lgb_model.predict(X_test)\n",
    "\n",
    "# Evaluate the model\n",
    "rmse_lgb = np.sqrt(mean_squared_error(y_test, y_pred_lgb))\n",
    "r2_lgb = r2_score(y_test, y_pred_lgb)\n",
    "\n",
    "print(f'LightGBM RMSE: {rmse_lgb}')\n",
    "print(f'LightGBM R-squared: {r2_lgb}')"
   ]
  },
  {
   "cell_type": "code",
   "execution_count": 11,
   "metadata": {
    "colab": {
     "base_uri": "https://localhost:8080/"
    },
    "executionInfo": {
     "elapsed": 401,
     "status": "ok",
     "timestamp": 1753260309132,
     "user": {
      "displayName": "Anushka Rathour",
      "userId": "17765780449852268020"
     },
     "user_tz": -330
    },
    "id": "7d920165",
    "outputId": "16d56402-8ced-4781-db24-13c43c9f7a78"
   },
   "outputs": [
    {
     "name": "stdout",
     "output_type": "stream",
     "text": [
      "Tuned RandomForestRegressor RMSE (Training Set): 6.79520285067306\n",
      "Tuned RandomForestRegressor R-squared (Training Set): 0.9826837780285665\n"
     ]
    }
   ],
   "source": [
    "from sklearn.metrics import mean_squared_error, r2_score\n",
    "import numpy as np\n",
    "\n",
    "# Evaluate the best RandomForestRegressor model on the training set\n",
    "y_pred_rf_train = model.predict(X_train)\n",
    "rmse_rf_train = np.sqrt(mean_squared_error(y_train, y_pred_rf_train))\n",
    "r2_rf_train = r2_score(y_train, y_pred_rf_train)\n",
    "\n",
    "print(f'Tuned RandomForestRegressor RMSE (Training Set): {rmse_rf_train}')\n",
    "print(f'Tuned RandomForestRegressor R-squared (Training Set): {r2_rf_train}')"
   ]
  },
  {
   "cell_type": "code",
   "execution_count": 12,
   "metadata": {
    "colab": {
     "base_uri": "https://localhost:8080/"
    },
    "executionInfo": {
     "elapsed": 478,
     "status": "ok",
     "timestamp": 1753260316339,
     "user": {
      "displayName": "Anushka Rathour",
      "userId": "17765780449852268020"
     },
     "user_tz": -330
    },
    "id": "26dac74d",
    "outputId": "c919bfda-12f3-4345-982f-663373a01651"
   },
   "outputs": [
    {
     "name": "stdout",
     "output_type": "stream",
     "text": [
      "Tuned XGBoost Regressor RMSE (Training Set): 14.408923784919427\n",
      "Tuned XGBoost Regressor R-squared (Training Set): 0.9221405411362679\n"
     ]
    }
   ],
   "source": [
    "from sklearn.metrics import mean_squared_error, r2_score\n",
    "import numpy as np\n",
    "\n",
    "# Evaluate the best XGBoost Regressor model on the training set\n",
    "y_pred_xgb_train = xgb_model.predict(X_train)\n",
    "rmse_xgb_train = np.sqrt(mean_squared_error(y_train, y_pred_xgb_train))\n",
    "r2_xgb_train = r2_score(y_train, y_pred_xgb_train)\n",
    "\n",
    "print(f'Tuned XGBoost Regressor RMSE (Training Set): {rmse_xgb_train}')\n",
    "print(f'Tuned XGBoost Regressor R-squared (Training Set): {r2_xgb_train}')"
   ]
  },
  {
   "cell_type": "code",
   "execution_count": 13,
   "metadata": {
    "colab": {
     "base_uri": "https://localhost:8080/"
    },
    "executionInfo": {
     "elapsed": 1157,
     "status": "ok",
     "timestamp": 1753260333837,
     "user": {
      "displayName": "Anushka Rathour",
      "userId": "17765780449852268020"
     },
     "user_tz": -330
    },
    "id": "05762d1b",
    "outputId": "ed50574b-f7ba-45d6-b449-95488c41779c"
   },
   "outputs": [
    {
     "name": "stdout",
     "output_type": "stream",
     "text": [
      "Tuned LightGBM Regressor RMSE (Training Set): 12.877303207613314\n",
      "Tuned LightGBM Regressor R-squared (Training Set): 0.9378132105386221\n"
     ]
    }
   ],
   "source": [
    "from sklearn.metrics import mean_squared_error, r2_score\n",
    "import numpy as np\n",
    "\n",
    "# Evaluate the best LightGBM Regressor model on the training set (using the model from RandomizedSearchCV)\n",
    "y_pred_lgb_train = lgb_model.predict(X_train)\n",
    "rmse_lgb_train = np.sqrt(mean_squared_error(y_train, y_pred_lgb_train))\n",
    "r2_lgb_train = r2_score(y_train, y_pred_lgb_train)\n",
    "\n",
    "print(f'Tuned LightGBM Regressor RMSE (Training Set): {rmse_lgb_train}')\n",
    "print(f'Tuned LightGBM Regressor R-squared (Training Set): {r2_lgb_train}')"
   ]
  },
  {
   "cell_type": "code",
   "execution_count": 14,
   "metadata": {
    "colab": {
     "base_uri": "https://localhost:8080/",
     "height": 564
    },
    "executionInfo": {
     "elapsed": 506,
     "status": "ok",
     "timestamp": 1753260656461,
     "user": {
      "displayName": "Anushka Rathour",
      "userId": "17765780449852268020"
     },
     "user_tz": -330
    },
    "id": "d2bbcc5c",
    "outputId": "8b49a18d-4890-41c4-aa3c-13e968c27a2f"
   },
   "outputs": [
    {
     "data": {
      "image/png": "[encoded data removed]",
      "text/plain": [
       "<Figure size 1000x600 with 1 Axes>"
      ]
     },
     "metadata": {},
     "output_type": "display_data"
    }
   ],
   "source": [
    "import matplotlib.pyplot as plt\n",
    "import pandas as pd\n",
    "\n",
    "# Create a DataFrame for actual and predicted values\n",
    "# Use the index of the test set to align actual and predicted values\n",
    "results_df = pd.DataFrame({'Actual': y_test, 'Predicted': y_pred_lgb})\n",
    "\n",
    "# Sort by index for a more meaningful line plot\n",
    "results_df = results_df.sort_index()\n",
    "\n",
    "# Plot the actual and predicted values\n",
    "plt.figure(figsize=(10, 6))\n",
    "plt.plot(results_df.index, results_df['Actual'], label='Actual', alpha=0.7)\n",
    "plt.plot(results_df.index, results_df['Predicted'], label='Predicted', alpha=0.7)\n",
    "plt.title('Actual vs. Predicted Total Price (Test Set)')\n",
    "plt.xlabel('Test Set Index')\n",
    "plt.ylabel('Total Price')\n",
    "plt.legend()\n",
    "plt.grid(True)\n",
    "plt.show()"
   ]
  },
  {
   "cell_type": "code",
   "execution_count": 15,
   "metadata": {
    "colab": {
     "base_uri": "https://localhost:8080/"
    },
    "executionInfo": {
     "elapsed": 265,
     "status": "ok",
     "timestamp": 1753261276276,
     "user": {
      "displayName": "Anushka Rathour",
      "userId": "17765780449852268020"
     },
     "user_tz": -330
    },
    "id": "8H-DTFwMgyQo",
    "outputId": "edd31249-39cf-45a8-e621-84fdbcbcd44d"
   },
   "outputs": [
    {
     "name": "stdout",
     "output_type": "stream",
     "text": [
      "LightGBM model saved to best_lightgbm_model.pkl\n"
     ]
    }
   ],
   "source": [
    "import joblib\n",
    "\n",
    "# Define the filename for the saved model\n",
    "filename = 'best_lightgbm_model.pkl'\n",
    "\n",
    "# Save the trained LightGBM model to the file\n",
    "joblib.dump(lgb_model, filename)\n",
    "\n",
    "print(f\"LightGBM model saved to {filename}\")"
   ]
  },
  {
   "cell_type": "code",
   "execution_count": 20,
   "metadata": {},
   "outputs": [
    {
     "data": {
      "text/plain": [
       "['model_features.pkl']"
      ]
     },
     "execution_count": 20,
     "metadata": {},
     "output_type": "execute_result"
    }
   ],
   "source": [
    "# Save dummy column names used during training\n",
    "joblib.dump(X.columns.tolist(), 'model_features.pkl')"
   ]
  },
  {
   "cell_type": "code",
   "execution_count": 19,
   "metadata": {},
   "outputs": [
    {
     "data": {
      "text/plain": [
       "['known_categories.pkl']"
      ]
     },
     "execution_count": 19,
     "metadata": {},
     "output_type": "execute_result"
    }
   ],
   "source": [
    "# Extract known values from one-hot encoded column names\n",
    "dummy_cols = df.columns.tolist()\n",
    "\n",
    "# Extract store_id names from dummy columns\n",
    "known_stores = [col.replace(\"store_id_\", \"\") for col in dummy_cols if col.startswith(\"store_id_\")]\n",
    "known_event_name_1 = [col.replace(\"event_name_1_\", \"\") for col in dummy_cols if col.startswith(\"event_name_1_\")]\n",
    "known_event_type_1 = [col.replace(\"event_type_1_\", \"\") for col in dummy_cols if col.startswith(\"event_type_1_\")]\n",
    "known_event_name_2 = [col.replace(\"event_name_2_\", \"\") for col in dummy_cols if col.startswith(\"event_name_2_\")]\n",
    "known_event_type_2 = [col.replace(\"event_type_2_\", \"\") for col in dummy_cols if col.startswith(\"event_type_2_\")]\n",
    "\n",
    "# Save all for inference\n",
    "import joblib\n",
    "joblib.dump({\n",
    "    'store_id': known_stores,\n",
    "    'event_name_1': known_event_name_1,\n",
    "    'event_type_1': known_event_type_1,\n",
    "    'event_name_2': known_event_name_2,\n",
    "    'event_type_2': known_event_type_2,\n",
    "}, 'known_categories.pkl')\n"
   ]
  }
 ],
 "metadata": {
  "colab": {
   "authorship_tag": "ABX9TyPpCwzF4xLPOkOvSgCLIDYt",
   "provenance": []
  },
  "kernelspec": {
   "display_name": "venv",
   "language": "python",
   "name": "python3"
  },
  "language_info": {
   "codemirror_mode": {
    "name": "ipython",
    "version": 3
   },
   "file_extension": ".py",
   "mimetype": "text/x-python",
   "name": "python",
   "nbconvert_exporter": "python",
   "pygments_lexer": "ipython3",
   "version": "3.13.5"
  }
 },
 "nbformat": 4,
 "nbformat_minor": 0
}
